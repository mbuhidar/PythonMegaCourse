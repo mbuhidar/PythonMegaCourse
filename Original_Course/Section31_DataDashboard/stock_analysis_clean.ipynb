{
 "cells": [
  {
   "cell_type": "code",
   "execution_count": 3,
   "id": "curious-powder",
   "metadata": {},
   "outputs": [
    {
     "name": "stdout",
     "output_type": "stream",
     "text": [
      "['https://cdn.bokeh.org/bokeh/release/bokeh-2.2.3.min.js', 'https://cdn.bokeh.org/bokeh/release/bokeh-widgets-2.2.3.min.js', 'https://cdn.bokeh.org/bokeh/release/bokeh-tables-2.2.3.min.js']\n",
      "[]\n"
     ]
    }
   ],
   "source": [
    "from pandas_datareader import data\n",
    "import datetime\n",
    "from bokeh.plotting import figure, show, output_file\n",
    "from bokeh.embed import components\n",
    "from bokeh.resources import CDN\n",
    "\n",
    "start_date = datetime.datetime(2015, 11, 1)\n",
    "end_date = datetime.datetime(2016, 3, 10)\n",
    "df = data.DataReader(name=\"AAPL\", data_source=\"yahoo\", start=start_date , end=end_date)\n",
    "\n",
    "def inc_dec(c, o):\n",
    "    if c > o:\n",
    "        value = \"Increase\"\n",
    "    elif c < o:\n",
    "        value = \"Decrease\"\n",
    "    else:\n",
    "        value = \"Equal\"\n",
    "    return value\n",
    "\n",
    "df[\"Status\"] = [inc_dec(c, o) for c, o in zip(df.Close, df.Open)]\n",
    "\n",
    "df[\"Middle\"] = (df.Open + df.Close)/2\n",
    "\n",
    "df[\"Height\"] = abs(df.Open-df.Close)\n",
    "\n",
    "p = figure(x_axis_type='datetime', width=1000, height=300, sizing_mode=\"scale_width\")\n",
    "\n",
    "p.title.text = \"Candlestick Chart\"\n",
    "\n",
    "p.grid.grid_line_alpha = 0.3\n",
    "\n",
    "p.segment(df.index, df.High, df.index, df.Low, color=\"black\")\n",
    "\n",
    "hours_12 = 12 * 60 * 60 * 1000 # 12 hours in miliseconds\n",
    "\n",
    "p.rect(df.index[df.Status==\"Increase\"], df.Middle[df.Status==\"Increase\"], hours_12, df.Height[df.Status==\"Increase\"], fill_color=\"#1E90FF\", line_color=\"black\")\n",
    "\n",
    "p.rect(df.index[df.Status==\"Decrease\"], df.Middle[df.Status==\"Decrease\"], hours_12, df.Height[df.Status==\"Decrease\"], fill_color=\"#FF3333\", line_color=\"black\")\n",
    "\n",
    "script1, div1 = components(p)\n",
    "cdn_js = CDN.js_files\n",
    "cdn_css = CDN.css_files\n",
    "#output_file(\"CS.html\")\n",
    "#show(p)\n",
    "\n",
    "print(cdn_js)\n",
    "print(cdn_css)"
   ]
  },
  {
   "cell_type": "code",
   "execution_count": null,
   "id": "personalized-carolina",
   "metadata": {},
   "outputs": [],
   "source": []
  }
 ],
 "metadata": {
  "kernelspec": {
   "display_name": "env",
   "language": "python",
   "name": "env"
  },
  "language_info": {
   "codemirror_mode": {
    "name": "ipython",
    "version": 3
   },
   "file_extension": ".py",
   "mimetype": "text/x-python",
   "name": "python",
   "nbconvert_exporter": "python",
   "pygments_lexer": "ipython3",
   "version": "3.8.5"
  }
 },
 "nbformat": 4,
 "nbformat_minor": 5
}
